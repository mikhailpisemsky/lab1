{
 "cells": [
  {
   "cell_type": "markdown",
   "metadata": {
    "id": "M-DGa20PaHnu"
   },
   "source": [
    "# Задача 1\n",
    "Написать функцию на вход которой подается строка, состоящая из латинских букв.\n",
    "Функция должна вернуть количество гласных букв (a, e, i, o, u) в этой строке. Написать тесты для кода"
   ]
  },
  {
   "cell_type": "code",
   "execution_count": 8,
   "metadata": {
    "id": "XvX8X_JJ6PCb"
   },
   "outputs": [],
   "source": [
    "def count_letters(string: str):\n",
    "    desired_letters = [\"a\", \"e\", \"i\", \"o\", \"u\"]\n",
    "    count = 0\n",
    "    for letter in string.lower():\n",
    "        if (letter in desired_letters):\n",
    "            count+=1\n",
    "    return count\n",
    "\n",
    "def test_count_letters():\n",
    "    assert count_letters(\"\") == 0\n",
    "    assert count_letters(\"aeiou\") == 5\n",
    "    assert count_letters(\"UPPER STRING\") == 3\n",
    "    assert count_letters(\"#string. ^? with wrOng @ (symbols>!\") == 4\n",
    "    assert count_letters(\"longString\" * 100000) == 200000\n",
    "    assert count_letters(\"   string with    gaps \") == 3\n",
    "\n",
    "if __name__ == \"__main__\":\n",
    "    test_count_letters()"
   ]
  },
  {
   "cell_type": "markdown",
   "metadata": {
    "id": "t2ClV_Y0bbr6"
   },
   "source": [
    "# Задача 2\n",
    "Написать функцию на вход, которой подается строка. Функция должна вернуть true, если\n",
    "каждый символ в строке встречается только 1 раз, иначе должна вернуть false. Написать тесты для кода"
   ]
  },
  {
   "cell_type": "code",
   "execution_count": 6,
   "metadata": {
    "id": "FppbECao6VIz"
   },
   "outputs": [],
   "source": [
    "def unique_symbols(string: str):\n",
    "    encountered_letters = set()\n",
    "    for letter in string:\n",
    "        if (letter != \" \"):\n",
    "            if (letter in encountered_letters):\n",
    "                return False\n",
    "            encountered_letters.add(letter)\n",
    "    return True\n",
    "    return count_letters\n",
    "\n",
    "def test_unique_symbols():\n",
    "    assert unique_symbols(\"\") == True\n",
    "    assert unique_symbols(\"string\") == True\n",
    "    assert unique_symbols(\"uncorrect string\") == False\n",
    "    assert unique_symbols(\"  str    wi_h  gap  \") == True\n",
    "    assert unique_symbols(\"  <(str -&^:   [no exp] cha_  !\") == True\n",
    "    assert unique_symbols(\"longString\" * 100000) == False\n",
    "    \n",
    "if __name__ == \"__main__\":\n",
    "    test_unique_symbols()"
   ]
  },
  {
   "cell_type": "markdown",
   "metadata": {
    "id": "udRiIK1cdt6E"
   },
   "source": [
    "# Задача 3\n",
    "Написать функцию, которая принимает положительное число и возвращает количество\n",
    "бит равных 1 в этом числе. Написать тесты для кода"
   ]
  },
  {
   "cell_type": "code",
   "execution_count": 10,
   "metadata": {
    "id": "6tkfDJRz6dp_"
   },
   "outputs": [],
   "source": [
    "def count_units(number: int):\n",
    "    return bin(number).count('1')\n",
    "\n",
    "def test_count_units():\n",
    "    assert count_units(0) == 0\n",
    "    assert count_units(1) == 1\n",
    "    assert count_units(2) == 1\n",
    "    assert count_units(3) == 2\n",
    "    assert count_units(4) == 1\n",
    "    \n",
    "if __name__ == \"__main__\":\n",
    "    test_count_units()"
   ]
  },
  {
   "cell_type": "markdown",
   "metadata": {
    "id": "26dDUz-Ae17N"
   },
   "source": [
    "# Задача 4\n",
    "Написать функцию, которая принимает положительное число. Функция должна вернуть то,\n",
    "сколько раз необходимо перемножать цифры числа или результат перемножения, чтобы\n",
    "получилось число состоящее из одной цифры.\n",
    "Например, для входного числа:\n",
    "· 39 функция должна вернуть 3, так как 3*9=27 => 2*7=14 => 1*4=4\n",
    "· 4 функция должна вернуть 0, так как число уже состоит из одной цифры\n",
    "· 999 функция должна вернуть 4, так как 9*9*9=729 => 7*2*9=126 => 1*2*6=12 =>\n",
    "1*2=2. Написать тесты для кода"
   ]
  },
  {
   "cell_type": "code",
   "execution_count": 13,
   "metadata": {
    "id": "BH1A_Mgi6i4G"
   },
   "outputs": [],
   "source": [
    "from functools import reduce\n",
    "\n",
    "def magic(n):\n",
    "    count = 0\n",
    "    while(n >= 10 ):\n",
    "        numbers = [int(i) for i in str(n)]\n",
    "        n = reduce(lambda x, y: x * y, numbers)\n",
    "        count+=1\n",
    "    return count\n",
    "\n",
    "def test_magic():\n",
    "    assert magic(10) == 1\n",
    "    assert magic(39) == 3\n",
    "    assert magic(4) == 0\n",
    "    assert magic(999) == 4\n",
    "    assert magic(999999) == 3\n",
    "\n",
    "if __name__ == \"__main__\":\n",
    "    test_magic()"
   ]
  },
  {
   "cell_type": "markdown",
   "metadata": {
    "id": "0nS-kIa8g8vd"
   },
   "source": [
    "# Задача 5\n",
    "Написать функцию, которая принимает два целочисленных вектора одинаковой длины и\n",
    "возвращает среднеквадратическое отклонение двух векторов. Написать тесты для кода"
   ]
  },
  {
   "cell_type": "code",
   "execution_count": 14,
   "metadata": {
    "id": "8iphx4LM6xbx"
   },
   "outputs": [],
   "source": [
    "import math\n",
    "\n",
    "def mse(pred, true):\n",
    "    summ = 0\n",
    "    for i in range(len(pred)):\n",
    "        summ += (pred[i] - true[i])**2\n",
    "    return math.sqrt(sum/len(pred))"
   ]
  },
  {
   "cell_type": "markdown",
   "metadata": {
    "id": "vpIPKL439zkw"
   },
   "source": [
    "# Задача 6\n",
    "Написать функцию, принимающая целое положительное число. Функция должна вернуть\n",
    "строку вида “(n1**p1)(n2**p2)…(nk**pk)” представляющая разложение числа на простые\n",
    "множители (если pi == 1, то выводить только ni).\n",
    "Например, для числа 86240 функция должна вернуть “(2**5)(5)(7**2)(11)”. Написать тесты для кода"
   ]
  },
  {
   "cell_type": "code",
   "execution_count": null,
   "metadata": {
    "id": "pFebmcZk94Jw"
   },
   "outputs": [],
   "source": [
    "# Your code goes here"
   ]
  },
  {
   "cell_type": "markdown",
   "metadata": {
    "id": "ps2s0BudX7A2"
   },
   "source": [
    "# Задача 7\n",
    "Написать функцию, принимающая целое число n, задающее количество кубиков. Функция\n",
    "должна определить, можно ли из данного кол-ва кубиков построить пирамиду, то есть\n",
    "можно ли представить число n как 1^2+2^2+3^2+…+k^2. Если можно, то функция должна\n",
    "вернуть k, иначе строку “It is impossible”. Написать тесты для кода"
   ]
  },
  {
   "cell_type": "code",
   "execution_count": 32,
   "metadata": {
    "id": "3YPjEXxhX_YT"
   },
   "outputs": [],
   "source": [
    "def pyramid(number):\n",
    "    # Your code goes here\n",
    "    pass"
   ]
  },
  {
   "cell_type": "markdown",
   "metadata": {
    "id": "KeKgmIdAQMEJ"
   },
   "source": [
    "# Задача 8\n",
    "Функция принимает на вход положительное число и определяет является ли оно сбалансированным, т.е. сумма цифр до средних равна сумме цифр после. Средними в случае нечетного числа цифр считать одну цифру, в случае четного - две средних. Написать тесты для кода"
   ]
  },
  {
   "cell_type": "code",
   "execution_count": null,
   "metadata": {
    "id": "gMAAqtqlQrZt"
   },
   "outputs": [],
   "source": [
    "# Your code goes here"
   ]
  }
 ],
 "metadata": {
  "colab": {
   "provenance": []
  },
  "kernelspec": {
   "display_name": "Python 3 (ipykernel)",
   "language": "python",
   "name": "python3"
  },
  "language_info": {
   "codemirror_mode": {
    "name": "ipython",
    "version": 3
   },
   "file_extension": ".py",
   "mimetype": "text/x-python",
   "name": "python",
   "nbconvert_exporter": "python",
   "pygments_lexer": "ipython3",
   "version": "3.13.2"
  }
 },
 "nbformat": 4,
 "nbformat_minor": 4
}
